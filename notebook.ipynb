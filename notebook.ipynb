{
 "cells": [
  {
   "cell_type": "code",
   "execution_count": null,
   "metadata": {},
   "outputs": [],
   "source": [
    "#This is the notebook to convert to CLAN's CHAT format"
   ]
  },
  {
   "cell_type": "code",
   "execution_count": null,
   "metadata": {},
   "outputs": [],
   "source": [
    "#Needed variables\n",
    "headertxt = \"\"\"@Begin\n",
    "@Languages:2     \tdan\n",
    "@Participants:\tSPE speaker, \n",
    "@Options:\tCA\n",
    "@Media:\ttranscribeme, audio\n",
    "\"\"\""
   ]
  },
  {
   "cell_type": "code",
   "execution_count": 7,
   "metadata": {},
   "outputs": [],
   "source": [
    "#open file\n",
    "#Some UTF8-problems I think...\n",
    "f = open('transcription.txt', 'r')\n",
    "rawtranscript = f.read()\n",
    "f.close()\n",
    "\n",
    "#Format transcript to list\n",
    "transcription = rawtranscript.split(\"'], ['\")"
   ]
  },
  {
   "cell_type": "code",
   "execution_count": 13,
   "metadata": {},
   "outputs": [
    {
     "data": {
      "text/plain": [
       "18"
      ]
     },
     "execution_count": 13,
     "metadata": {},
     "output_type": "execute_result"
    }
   ],
   "source": [
    "#Praat need to export times to filenames\n",
    "\n",
    "for line in transcription:\n"
   ]
  },
  {
   "cell_type": "code",
   "execution_count": null,
   "metadata": {},
   "outputs": [],
   "source": []
  }
 ],
 "metadata": {
  "kernelspec": {
   "display_name": "Python 3.10.4 64-bit",
   "language": "python",
   "name": "python3"
  },
  "language_info": {
   "codemirror_mode": {
    "name": "ipython",
    "version": 3
   },
   "file_extension": ".py",
   "mimetype": "text/x-python",
   "name": "python",
   "nbconvert_exporter": "python",
   "pygments_lexer": "ipython3",
   "version": "3.10.4"
  },
  "orig_nbformat": 4,
  "vscode": {
   "interpreter": {
    "hash": "065b6b9b7e0b0acac5207f285d893df8d5857f95395198309bb0ec00de6622bb"
   }
  }
 },
 "nbformat": 4,
 "nbformat_minor": 2
}
